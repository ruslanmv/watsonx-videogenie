{
 "cells": [
  {
   "cell_type": "markdown",
   "metadata": {},
   "source": [
    "# Avatar Service Render Test\n",
    "\n",
    "This notebook tests the core Wav2Lip rendering logic before running the full FastAPI app.\n",
    "\n",
    "It will:\n",
    "- Download a sample WAV file\n",
    "- Invoke `download_voice` and `wav2lip_render`\n",
    "- Display the resulting MP4 inline\n"
   ]
  },
  {
   "cell_type": "code",
   "execution_count": null,
   "metadata": {},
   "outputs": [],
   "source": [
    "# Ensure working directory is project root or adjust sys.path\n",
    "import sys, os\n",
    "sys.path.append(os.path.abspath('app'))\n",
    "\n",
    "from render import download_voice, wav2lip_render\n",
    "from pathlib import Path\n",
    "import tempfile\n",
    "\n",
    "# Prepare output directory\n",
    "WORK_DIR = Path(tempfile.mkdtemp())\n",
    "AVATAR_DIR = Path('models')\n",
    "assert AVATAR_DIR.exists(), 'Populate models/ with avatar PNGs first'\n",
    "\n",
    "# Choose an avatar ID that matches a PNG in models/\n",
    "avatar_id = 'alice'  # change to your filename without .png\n",
    "voice_url = 'https://actions.google.com/sounds/v1/animals/dog_bark.ogg'\n",
    "\n",
    "# Download voice clip\n",
    "audio_path = download_voice(voice_url)\n",
    "print('Downloaded audio to', audio_path)\n",
    "\n",
    "# Run lip-sync render\n",
    "output_mp4 = WORK_DIR / f\"{avatar_id}_test.mp4\"\n",
    "wav2lip_render(avatar_id, voice_url, str(output_mp4))\n",
    "print('Rendered video at', output_mp4)\n"
   ]
  },
  {
   "cell_type": "code",
   "execution_count": null,
   "metadata": {},
   "outputs": [],
   "source": [
    "from IPython.display import Video, display\n",
    "\n",
    "print('Preview:')\n",
    "display(Video(str(output_mp4), embed=True))"
   ]
  }
 ],
 "metadata": {
  "kernelspec": {
   "display_name": "Python 3",
   "language": "python",
   "name": "python3"
  },
  "language_info": {
   "name": "python",
   "version": "3.11"
  }
 },
 "nbformat": 4,
 "nbformat_minor": 5
}
